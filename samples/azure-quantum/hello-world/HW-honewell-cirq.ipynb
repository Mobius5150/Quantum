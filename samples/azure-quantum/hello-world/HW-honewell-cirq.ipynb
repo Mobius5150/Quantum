{
  "cells": [
    {
      "cell_type": "markdown",
      "source": [
        "# 👋🌍 Hello, world: Submit a Cirq job to Honeywell (Quantinuum)\n",
        "\n",
        "In this notebook, we'll review the basics of Azure Quantum by submitting a simple *job*, or quantum program, to [Honeywell (Quantinuum)](https://www.quantinuum.com/). We will use [Cirq](https://quantumai.google/cirq) to express the quantum job."
      ],
      "metadata": {
        "nteract": {
          "transient": {
            "deleting": false
          }
        }
      },
      "id": "4f68bf86-fb3b-453a-85ae-dfa702070bd6"
    },
    {
      "cell_type": "markdown",
      "source": [
        "## Submit a simple job to Honeywell using Azure Quantum\r\n",
        "Azure Quantum provides several ways to express quantum programs. In this example, we are using Cirq, but note that Q# and Qiskit are also supported. All code in this example will be written in Python.\r\n",
        "\r\n",
        "Let's begin. When you see a code block, hover over it and click the triangle play-button to execute it. To avoid any compilation issues, this should be done in order from top to bottom."
      ],
      "metadata": {
        "nteract": {
          "transient": {
            "deleting": false
          }
        }
      },
      "id": "ed8cda3b-cac7-4a57-8ea0-ac9cba831a36"
    },
    {
      "cell_type": "markdown",
      "source": [
        "### 1. Connect to the Azure Quantum workspace\r\n",
        "\r\n",
        "To connect to the Azure Quantum service, construct an instance of the `AzureQuantumService`. Note that it's imported from `azure.quantum.cirq`."
      ],
      "metadata": {
        "nteract": {
          "transient": {
            "deleting": false
          }
        }
      },
      "id": "4b7e2f18-b0f8-41b5-9ec2-2907f47959e2"
    },
    {
      "cell_type": "code",
      "source": [
        "from azure.quantum.cirq import AzureQuantumService\n",
        "\n",
        "service = AzureQuantumService (\n",
        "    resource_id = \"/subscriptions/677fc922-91d0-4bf6-9b06-4274d319a0fa/resourceGroups/alchocro-test-001/providers/Microsoft.Quantum/Workspaces/123\",\n",
        "    location = \"eastus\")"
      ],
      "outputs": [],
      "execution_count": null,
      "metadata": {},
      "id": "d171c652-649f-470d-a980-d02bae9a93db"
    },
    {
      "cell_type": "markdown",
      "source": [
        "Let's see what providers and targets are enabled in this workspace with the following command:\r\n"
      ],
      "metadata": {
        "nteract": {
          "transient": {
            "deleting": false
          }
        }
      },
      "id": "7d21b1b5-707d-4732-9d5a-e17bc2d9f569"
    },
    {
      "cell_type": "code",
      "source": [
        "targetInfo = service.targets()\r\n",
        "\r\n",
        "print(\"This workspace's targets:\")\r\n",
        "for target in targetInfo:\r\n",
        "    print(\"-\", target.name)"
      ],
      "outputs": [],
      "execution_count": null,
      "metadata": {
        "jupyter": {
          "source_hidden": false,
          "outputs_hidden": false
        },
        "nteract": {
          "transient": {
            "deleting": false
          }
        }
      },
      "id": "582943f3-8afa-4e99-a1f5-e396d99fdec2"
    },
    {
      "cell_type": "markdown",
      "source": [
        "### ❕ Do you see `honeywell.hqs-lt-s1-apival` in your list of targets? If so, you're ready to keep going.\r\n",
        "\r\n",
        "Don't see it? You may need to add Honeywell to your workspace to run this sample. Navigate to the **Providers** page in the portal and click **+Add** to add the Honeywell provider. Don't worry, there's a free credits plan available."
      ],
      "metadata": {
        "nteract": {
          "transient": {
            "deleting": false
          }
        }
      },
      "id": "6c0c1824-23f2-45a9-bf55-f82a64727f1b"
    },
    {
      "cell_type": "markdown",
      "source": [
        "## Honeywell (Quantinuum): The quantum provider\r\n",
        "Azure Quantum partners with third-party companies to deliver solutions to quantum jobs. These company offerings are called *providers*. Each provider can offer multiple *targets* with different capabilities. See the table below for Honeywell's targets.\r\n",
        "\r\n",
        "Target name | Target ID | Number of qubits | Description\r\n",
        "| --- | ---| ---|\r\n",
        "Quantum validator | `honeywell.hqs-lt-s1-apival`* | 12 | Honeywell's \"API validator.\" Use this to validate quantum programs before submitting to hardware or emulation on Honeywell's platform. Free of cost. |\r\n",
        "Honeywell System Model H1 Emulator | `honeywell.hqs-lt-s1-sim`* | 12 | Honeywell's quantum simulator. Uses a noise model that is consistent with their H1 hardware offering. |\r\n",
        "Honeywell System Model H1 | `honeywell.hqs-lt-s1`* | 12 | Honeywell's trapped-ion quantum computer. |\r\n",
        "\r\n",
        "\\*This target contains an alternate of similar function that is referred to by changing the `s1` in its name to `s2`.\r\n",
        "\r\n",
        "For this example, we will use `honeywell.hqs-lt-s1-apival` to avoid any costs or credit usage. If you wish to emulate or run the actual circuit, you may replace all instances of `honeywell.hqs-lt-s1-apival` in subsequent code cells with one of the other values in the table above, but please note any costs incurred. To learn more about Honeywell's targets, check out our [documentation](https://docs.microsoft.com/azure/quantum/provider-honeywell)."
      ],
      "metadata": {
        "nteract": {
          "transient": {
            "deleting": false
          }
        }
      },
      "id": "61816cb6-3434-470b-89eb-13192648cfaf"
    },
    {
      "cell_type": "markdown",
      "source": [
        "### 2. Build the quantum program\n",
        "\n",
        "Let's create a simple Cirq circuit to run."
      ],
      "metadata": {},
      "id": "563fa196-7efd-47a2-a3dd-e6f4f6d0031b"
    },
    {
      "cell_type": "code",
      "source": [
        "import cirq\n",
        "\n",
        "q0 = cirq.LineQubit(0)\n",
        "circuit = cirq.Circuit(\n",
        "    cirq.H(q0),               # Apply an H-gate to q0\n",
        "    cirq.measure(q0)          # Measure q0\n",
        ")\n",
        "circuit"
      ],
      "outputs": [],
      "execution_count": null,
      "metadata": {},
      "id": "9deacc51-c2ea-43a3-a474-c4ff62798609"
    },
    {
      "cell_type": "markdown",
      "source": [
        "The circuit you built is a simple quantum random bit generator. With Honeywell's API validator, we will be able to confirm that the circuit is able to be run on their H1 emulator and hardware."
      ],
      "metadata": {
        "nteract": {
          "transient": {
            "deleting": false
          }
        }
      },
      "id": "a9c43dfa-8fd0-435b-90a8-496697d48d33"
    },
    {
      "cell_type": "markdown",
      "source": [
        "### 3. Submit the quantum program to Honeywell"
      ],
      "metadata": {},
      "id": "71ab1f66-2a22-4bed-a5cb-6a5f431456ea"
    },
    {
      "cell_type": "code",
      "source": [
        "# Using the Honeywell API validation target, call \"run\" to submit the job. We'll\r\n",
        "# use 100 repetitions (simulated runs).\r\n",
        "job = service.targets(\"honeywell.hqs-lt-s1-apival\").submit(circuit, name=\"hello world-cirq-honeywell\", repetitions=100)\r\n",
        "\r\n",
        "# Print the job ID.\r\n",
        "print(\"Job id:\", job.job_id())"
      ],
      "outputs": [],
      "execution_count": null,
      "metadata": {},
      "id": "55072a59-3df1-4eb6-9096-35fe4f2b4fc0"
    },
    {
      "cell_type": "markdown",
      "source": [
        "The job ID can be used to retrieve the results later using the `get_job` function or by viewing it under the **Job management** section of the portal."
      ],
      "metadata": {
        "nteract": {
          "transient": {
            "deleting": false
          }
        }
      },
      "id": "68845f26-dff9-4c60-9478-895ef346231f"
    },
    {
      "cell_type": "markdown",
      "source": [
        "### 4. Obtain the job results\r\n",
        "To get the job's results, you can await completion and plot the output, as in the next code cell. This may take a few seconds."
      ],
      "metadata": {
        "nteract": {
          "transient": {
            "deleting": false
          }
        }
      },
      "id": "7d1e3a59-9898-41dd-93ef-2a204fbb49e8"
    },
    {
      "cell_type": "code",
      "source": [
        "# Await job results.\r\n",
        "result = job.results()\r\n",
        "\r\n",
        "from matplotlib import pyplot\r\n",
        "\r\n",
        "# Honeywell's simulator does not return probabilities. Instead, it returns a dictionary of measurements.\r\n",
        "# (Note that since we targeted API validation, we expect to see that all measurements result in a zero.)\r\n",
        "# In order to visualize the result, we can use a histogram. Since the circuit contains only a single\r\n",
        "# measurement, we can expect that all values will be tied to the key \"m_0\".\r\n",
        "pyplot.hist(result['m_0'], bins=[0,1,2], width=0.5)\r\n",
        "pyplot.title(\"Result\")\r\n",
        "pyplot.xlabel(\"Measurement\")\r\n",
        "_ = pyplot.ylabel(\"Repititions\")"
      ],
      "outputs": [],
      "execution_count": null,
      "metadata": {},
      "id": "a88e4367-23a8-434b-8859-4d7ed328e529"
    },
    {
      "cell_type": "markdown",
      "source": [
        "**See the histogram above? Congratulations, you've submitted a job with Azure Quantum! 👏**\r\n"
      ],
      "metadata": {
        "nteract": {
          "transient": {
            "deleting": false
          }
        }
      },
      "id": "ac95a368-fe1f-42fe-bb21-11f11e63d177"
    },
    {
      "cell_type": "markdown",
      "source": [
        "### 5. Next steps\r\n",
        "Next, you can try running a program on Honeywell's emulation and hardware targets. Just replace `honeywell.hqs-lt-s1-apival` with `honeywell.hqs-lt-s1-sim` or `honeywell.hqs-lt-s1`. Or try another sample by navigating back to the sample gallery. The same \"hello world\" sample can be run with different quantum providers by choosing another option in the gallery card drop-down menu. Don't worry - your work here is automatically saved.\r\n",
        "\r\n",
        "To learn more about submitting Cirq circuits to Azure Quantum, review [this documentation](https://docs.microsoft.com/azure/quantum/quickstart-microsoft-cirq?pivots=platform-honeywell)."
      ],
      "metadata": {
        "nteract": {
          "transient": {
            "deleting": false
          }
        }
      },
      "id": "ca314d37-ac46-4a0c-89dc-3cb063eb03b8"
    }
  ],
  "metadata": {
    "kernelspec": {
      "name": "python3",
      "language": "python",
      "display_name": "Python 3 (ipykernel)"
    },
    "language_info": {
      "name": "python",
      "version": "3.7.12",
      "mimetype": "text/x-python",
      "codemirror_mode": {
        "name": "ipython",
        "version": 3
      },
      "pygments_lexer": "ipython3",
      "nbconvert_exporter": "python",
      "file_extension": ".py"
    },
    "kernel_info": {
      "name": "python3"
    },
    "nteract": {
      "version": "nteract-front-end@1.0.0"
    }
  },
  "nbformat": 4,
  "nbformat_minor": 5
}