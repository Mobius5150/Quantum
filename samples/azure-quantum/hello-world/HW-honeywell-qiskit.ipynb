{
  "cells": [
    {
      "cell_type": "markdown",
      "source": [
        "# 👋🌍 Hello, world: Submit a Qiskit job to Honeywell (Quantinuum)\n",
        "\n",
        "In this notebook, we'll review the basics of Azure Quantum by submitting a simple *job*, or quantum program, to [Honeywell (Quantinuum)](https://www.quantinuum.com/). We will use [Qiskit](https://qiskit.org/) to express the quantum job."
      ],
      "metadata": {},
      "id": "4f68bf86-fb3b-453a-85ae-dfa702070bd6"
    },
    {
      "cell_type": "markdown",
      "source": [
        "## Submit a simple job to Honeywell using Azure Quantum\r\n",
        "Azure Quantum provides several ways to express quantum programs. In this example we are using Qiskit, but note that Q# and Cirq are also supported. All code in this example will be written in Python.\r\n",
        "\r\n",
        "Let's begin. When you see a code block, hover over it and click the triangle play-button to execute it. To avoid any compilation issues, this should be done in order from top to bottom."
      ],
      "metadata": {
        "nteract": {
          "transient": {
            "deleting": false
          }
        }
      },
      "id": "ed8cda3b-cac7-4a57-8ea0-ac9cba831a36"
    },
    {
      "cell_type": "markdown",
      "source": [
        "### 1. Connect to the Azure Quantum workspace\r\n",
        "\r\n",
        "To connect to the Azure Quantum service, construct an instance of the `AzureQuantumProvider`. Note that it's imported from `azure.quantum.qiskit`."
      ],
      "metadata": {
        "nteract": {
          "transient": {
            "deleting": false
          }
        }
      },
      "id": "4b7e2f18-b0f8-41b5-9ec2-2907f47959e2"
    },
    {
      "cell_type": "code",
      "source": [
        "from azure.quantum.qiskit import AzureQuantumProvider\n",
        "\n",
        "provider = AzureQuantumProvider (\n",
        "    resource_id = \"\",\n",
        "    location = \"\")"
      ],
      "outputs": [],
      "execution_count": null,
      "metadata": {},
      "id": "d171c652-649f-470d-a980-d02bae9a93db"
    },
    {
      "cell_type": "markdown",
      "source": [
        "Let's see what providers and targets are enabled in this workspace with the following command:\r\n"
      ],
      "metadata": {
        "nteract": {
          "transient": {
            "deleting": false
          }
        }
      },
      "id": "4bd4be5e-0444-431d-a49e-ce459f07bb2d"
    },
    {
      "cell_type": "code",
      "source": [
        "from qiskit import QuantumCircuit\r\n",
        "from qiskit.visualization import plot_histogram\r\n",
        "from qiskit.tools.monitor import job_monitor\r\n",
        "\r\n",
        "print(\"This workspace's targets:\")\r\n",
        "for backend in provider.backends():\r\n",
        "    print(\"- \" + backend.name())"
      ],
      "outputs": [],
      "execution_count": null,
      "metadata": {
        "jupyter": {
          "source_hidden": false,
          "outputs_hidden": false
        },
        "nteract": {
          "transient": {
            "deleting": false
          }
        }
      },
      "id": "bfd720b7-df1d-4e7e-aaa9-3c6c2fbf29ab"
    },
    {
      "cell_type": "markdown",
      "source": [
        "### ❕ Do you see `honeywell.hqs-lt-s1-apival` in your list of targets? If so, you're ready to keep going.\r\n",
        "\r\n",
        "Don't see it? You may need to add Honeywell to your workspace to run this sample. Navigate to the **Providers** page in the portal and click **+Add** to add the Honeywell provider. Don't worry, there's a free credits plan available.\r\n",
        "## Honeywell (Quantinuum): The quantum provider\r\n",
        "Azure Quantum partners with third-party companies to deliver solutions to quantum jobs. These company offerings are called *providers*. Each provider can offer multiple *targets* with different capabilities. See the table below for Honeywell's targets.\r\n",
        "\r\n",
        "Target name | Target ID | Number of qubits | Description\r\n",
        "| --- | ---| ---|\r\n",
        "Quantum validator | `honeywell.hqs-lt-s1-apival`* | 12 | Honeywell's \"API validator.\" Use this to validate quantum programs before submitting to hardware or emulation on Honeywell's platform. Free of cost. |\r\n",
        "Honeywell System Model H1 Emulator | `honeywell.hqs-lt-s1-sim`* | 12 | Honeywell's quantum simulator. Uses a noise model that is consistent with their H1 hardware offering. |\r\n",
        "Honeywell System Model H1 | `honeywell.hqs-lt-s1`* | 12 | Honeywell's trapped-ion quantum computer. |\r\n",
        "\r\n",
        "\\*This target contains an alternate of identical function that is referred to by changing the `s1` in its name to `s2`.\r\n",
        "\r\n",
        "For this example, we will use `honeywell.hqs-lt-s1-apival` to avoid any costs or credit usage. If you wish to emulate or run the actual circuit, you may replace all instances of `honeywell.hqs-lt-s1-apival` in subsequent code cells with one of the other values in the table above, but please note any costs incurred. To learn more about Honeywell's targets, check out our [documentation](https://docs.microsoft.com/azure/quantum/provider-honeywell)."
      ],
      "metadata": {
        "nteract": {
          "transient": {
            "deleting": false
          }
        }
      },
      "id": "61816cb6-3434-470b-89eb-13192648cfaf"
    },
    {
      "cell_type": "markdown",
      "source": [
        "### 2. Build the quantum program\n",
        "\n",
        "Let's create a simple Qiskit circuit to run."
      ],
      "metadata": {},
      "id": "563fa196-7efd-47a2-a3dd-e6f4f6d0031b"
    },
    {
      "cell_type": "code",
      "source": [
        "# Create a quantum circuit acting on a single qubit\n",
        "circuit = QuantumCircuit(1,1)\n",
        "circuit.name = \"Single qubit random\"\n",
        "circuit.h(0)\n",
        "circuit.measure(0, 0)\n",
        "\n",
        "# Print out the circuit\n",
        "circuit.draw()"
      ],
      "outputs": [],
      "execution_count": null,
      "metadata": {},
      "id": "9deacc51-c2ea-43a3-a474-c4ff62798609"
    },
    {
      "cell_type": "markdown",
      "source": [
        "The circuit you built is a simple quantum random bit generator. With Honeywell's API validator, we will be able to confirm that the circuit is able to be run on their H1 emulator and hardware."
      ],
      "metadata": {
        "nteract": {
          "transient": {
            "deleting": false
          }
        }
      },
      "id": "a9c43dfa-8fd0-435b-90a8-496697d48d33"
    },
    {
      "cell_type": "markdown",
      "source": [
        "### 3. Submit the quantum program to Honeywell"
      ],
      "metadata": {},
      "id": "71ab1f66-2a22-4bed-a5cb-6a5f431456ea"
    },
    {
      "cell_type": "code",
      "source": [
        "# Create an object that represents Honeywell's API validator target, \"honeywell.hqs-lt-s1-apival\".\r\n",
        "#   Note that any target you have enabled in this workspace can\r\n",
        "#   be used here. Azure Quantum makes it extremely easy to submit\r\n",
        "#   the same quantum program to different providers. \r\n",
        "honeywell_api_val_backend = provider.get_backend(\"honeywell.hqs-lt-s1-apival\")\r\n",
        "\r\n",
        "# Using the Honeywell target target, call \"run\" to submit the job. We'll\r\n",
        "# use 100 shots (simulated runs).\r\n",
        "job = honeywell_api_val_backend.run(circuit, shots=100)\r\n",
        "print(\"Job id:\", job.id())"
      ],
      "outputs": [],
      "execution_count": null,
      "metadata": {},
      "id": "55072a59-3df1-4eb6-9096-35fe4f2b4fc0"
    },
    {
      "cell_type": "markdown",
      "source": [
        "The job ID can be used to retrieve the results later using the [get_details function](https://docs.microsoft.com/en-us/azure/quantum/optimization-job-reference#jobdetails) or by viewing it under the **Job management** section of the portal."
      ],
      "metadata": {
        "nteract": {
          "transient": {
            "deleting": false
          }
        }
      },
      "id": "68845f26-dff9-4c60-9478-895ef346231f"
    },
    {
      "cell_type": "markdown",
      "source": [
        "### 4. Obtain the job results\r\n",
        "You can monitor the job status with Qiskit's `job_monitor` function.\r\n",
        "\r\n",
        "This may take a minute or so ⏳. Your job will be packaged and sent to Honeywell, where it will wait its turn to be run. You'll see your job go through these stages: \"job is queued\" -> \"job is actively running\" -> \"job has successfully run.\""
      ],
      "metadata": {
        "nteract": {
          "transient": {
            "deleting": false
          }
        }
      },
      "id": "7d1e3a59-9898-41dd-93ef-2a204fbb49e8"
    },
    {
      "cell_type": "code",
      "source": [
        "job_monitor(job)\r\n",
        "\r\n",
        "result = job.result()\r\n",
        "\r\n",
        "# The result object is native to the Qiskit package, so we can use Qiskit's tools to print the result as a histogram.\r\n",
        "# For API validation, we expect to see all zeroes.\r\n",
        "plot_histogram(result.get_counts(circuit), title=\"Result\", number_to_keep=2)"
      ],
      "outputs": [],
      "execution_count": null,
      "metadata": {},
      "id": "a88e4367-23a8-434b-8859-4d7ed328e529"
    },
    {
      "cell_type": "markdown",
      "source": [
        "**See the histogram above? Congratulations, you've submitted a job with Azure Quantum! 👏**\r\n"
      ],
      "metadata": {
        "nteract": {
          "transient": {
            "deleting": false
          }
        }
      },
      "id": "ac95a368-fe1f-42fe-bb21-11f11e63d177"
    },
    {
      "cell_type": "markdown",
      "source": [
        "### 5. Next steps\r\n",
        "Next, you can try running a program on Honeywell's emulation and hardware targets. Just replace `honeywell.hqs-lt-s1-apival` with `honeywell.hqs-lt-s1-sim` or `honeywell.hqs-lt-s1`. Or try another sample by navigating back to the sample gallery. The same \"hello world\" sample can be run with different quantum providers by choosing another option in the gallery card drop-down menu. Don't worry - your work here is automatically saved.\r\n",
        "\r\n",
        "To learn more about submitting Qiskit circuits to Azure Quantum, review [this documentation](https://docs.microsoft.com/azure/quantum/quickstart-microsoft-qiskit?pivots=platform-honeywell)."
      ],
      "metadata": {
        "nteract": {
          "transient": {
            "deleting": false
          }
        }
      },
      "id": "ca314d37-ac46-4a0c-89dc-3cb063eb03b8"
    }
  ],
  "metadata": {
    "kernelspec": {
      "name": "python3",
      "language": "python",
      "display_name": "Python 3 (ipykernel)"
    },
    "language_info": {
      "name": "python",
      "version": "3.7.12",
      "mimetype": "text/x-python",
      "codemirror_mode": {
        "name": "ipython",
        "version": 3
      },
      "pygments_lexer": "ipython3",
      "nbconvert_exporter": "python",
      "file_extension": ".py"
    },
    "kernel_info": {
      "name": "python3"
    },
    "nteract": {
      "version": "nteract-front-end@1.0.0"
    }
  },
  "nbformat": 4,
  "nbformat_minor": 5
}