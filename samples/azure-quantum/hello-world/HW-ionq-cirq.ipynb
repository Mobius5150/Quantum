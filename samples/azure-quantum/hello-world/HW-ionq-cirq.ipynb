{
  "cells": [
    {
      "cell_type": "markdown",
      "source": [
        "# 👋🌍 Hello, world: Submit a Cirq job to IonQ\n",
        "\n",
        "In this notebook, we'll review the basics of Azure Quantum by submitting a simple *job*, or quantum program, to [IonQ](https://ionq.com/). We will use [Cirq](https://quantumai.google/cirq) to express the quantum job."
      ],
      "metadata": {},
      "id": "4f68bf86-fb3b-453a-85ae-dfa702070bd6"
    },
    {
      "cell_type": "markdown",
      "source": [
        "## Submit a simple job to IonQ using Azure Quantum\r\n",
        "Azure Quantum provides several ways to express quantum programs. In this example we are using Cirq, but note that Q# and Qiskit are also supported. All code in this example will be written in Python.\r\n",
        "\r\n",
        "Let's begin. When you see a code block, hover over it and click the triangle play-button to execute it. To avoid any compilation issues, this should be done in order from top to bottom."
      ],
      "metadata": {
        "nteract": {
          "transient": {
            "deleting": false
          }
        }
      },
      "id": "ed8cda3b-cac7-4a57-8ea0-ac9cba831a36"
    },
    {
      "cell_type": "markdown",
      "source": [
        "### 1. Connect to the Azure Quantum workspace\r\n",
        "\r\n",
        "To connect to the Azure Quantum service, construct an instance of the `AzureQuantumService`. Note that it's imported from `azure.quantum.cirq`."
      ],
      "metadata": {
        "nteract": {
          "transient": {
            "deleting": false
          }
        }
      },
      "id": "4b7e2f18-b0f8-41b5-9ec2-2907f47959e2"
    },
    {
      "cell_type": "code",
      "source": [
        "from azure.quantum.cirq import AzureQuantumService\n",
        "\n",
        "service = AzureQuantumService (\n",
        "    resource_id = \"\",\n",
        "    location = \"\")"
      ],
      "outputs": [],
      "execution_count": null,
      "metadata": {},
      "id": "d171c652-649f-470d-a980-d02bae9a93db"
    },
    {
      "cell_type": "markdown",
      "source": [
        "Let's see what providers and targets are enabled in this workspace with the following command:\r\n"
      ],
      "metadata": {
        "nteract": {
          "transient": {
            "deleting": false
          }
        }
      },
      "id": "bc1f924f-7800-4661-b9e6-9eb70e98a33c"
    },
    {
      "cell_type": "code",
      "source": [
        "targetInfo = service.targets()\r\n",
        "print(\"This workspace's targets:\")\r\n",
        "for target in targetInfo:\r\n",
        "    print(\"-\", target.name)"
      ],
      "outputs": [],
      "execution_count": null,
      "metadata": {
        "jupyter": {
          "source_hidden": false,
          "outputs_hidden": false
        },
        "nteract": {
          "transient": {
            "deleting": false
          }
        }
      },
      "id": "e3620702-c037-46d5-aeda-fcff90c75a04"
    },
    {
      "cell_type": "markdown",
      "source": [
        "### ❕ Do you see `ionq.simulator` in your list of targets? If so, you're ready to keep going.\r\n",
        "\r\n",
        "Don't see it? You may need to add IonQ to your workspace to run this sample. Navigate to the **Providers** page in the portal and click **+Add** to add the IonQ provider. Don't worry, there's a free credits plan available."
      ],
      "metadata": {
        "nteract": {
          "transient": {
            "deleting": false
          }
        }
      },
      "id": "6c0c1824-23f2-45a9-bf55-f82a64727f1b"
    },
    {
      "cell_type": "markdown",
      "source": [
        "## IonQ: The quantum provider\r\n",
        "Azure Quantum partners with third-party companies to deliver solutions to quantum jobs. These company offerings are called *providers*. Each provider can offer multiple *targets* with different capabilities. See the table below for IonQ's targets.\r\n",
        "\r\n",
        "Target name | Target ID | Number of qubits | Description\r\n",
        "| --- | ---| ---|\r\n",
        "Quantum simulator | `ionq.simulator` | 29 qubits | IonQ's cloud-based idealized simulator. Free of cost. |\r\n",
        "Quantum computer | `ionq.qpu` | 11 qubits | IonQ's trapped-ion quantum computer. This is real quantum hardware, not a simulation.\r\n",
        "\r\n",
        "For this example, we will use `ionq.simulator`. To learn more about IonQ's targets, check out our [documentation](https://docs.microsoft.com/azure/quantum/provider-ionq)."
      ],
      "metadata": {
        "nteract": {
          "transient": {
            "deleting": false
          }
        }
      },
      "id": "61816cb6-3434-470b-89eb-13192648cfaf"
    },
    {
      "cell_type": "markdown",
      "source": [
        "### 2. Build the quantum program\n",
        "\n",
        "Let's create a simple Cirq circuit to run."
      ],
      "metadata": {},
      "id": "563fa196-7efd-47a2-a3dd-e6f4f6d0031b"
    },
    {
      "cell_type": "code",
      "source": [
        "import cirq\n",
        "\n",
        "q0 = cirq.LineQubit(0)\n",
        "circuit = cirq.Circuit(\n",
        "    cirq.H(q0),               # Apply an H-gate to q0\n",
        "    cirq.measure(q0)          # Measure q0\n",
        ")\n",
        "circuit"
      ],
      "outputs": [],
      "execution_count": null,
      "metadata": {},
      "id": "9deacc51-c2ea-43a3-a474-c4ff62798609"
    },
    {
      "cell_type": "markdown",
      "source": [
        "The circuit you built is a simple quantum random bit generator. With IonQ's idealized simulator, we will be able to calculate the probability of measuring a `1` or `0`."
      ],
      "metadata": {
        "nteract": {
          "transient": {
            "deleting": false
          }
        }
      },
      "id": "a9c43dfa-8fd0-435b-90a8-496697d48d33"
    },
    {
      "cell_type": "markdown",
      "source": [
        "### 3. Submit the quantum program to IonQ"
      ],
      "metadata": {},
      "id": "71ab1f66-2a22-4bed-a5cb-6a5f431456ea"
    },
    {
      "cell_type": "code",
      "source": [
        "# Using the IonQ simulator target, call \"run\" to submit the job. We'll\r\n",
        "# use 100 repititions (simulated runs).\r\n",
        "job = service.targets(\"ionq.simulator\").submit(circuit, name=\"hello world-cirq-ionq\", repetitions=100)\r\n",
        "\r\n",
        "# Print the job ID.\r\n",
        "print(\"Job id:\", job.job_id())"
      ],
      "outputs": [],
      "execution_count": null,
      "metadata": {},
      "id": "55072a59-3df1-4eb6-9096-35fe4f2b4fc0"
    },
    {
      "cell_type": "markdown",
      "source": [
        "The job ID can be used to retrieve the results later using the [get_details function](https://docs.microsoft.com/en-us/azure/quantum/optimization-job-reference#jobdetails) or by viewing it under the **Job management** section of the portal."
      ],
      "metadata": {
        "nteract": {
          "transient": {
            "deleting": false
          }
        }
      },
      "id": "68845f26-dff9-4c60-9478-895ef346231f"
    },
    {
      "cell_type": "markdown",
      "source": [
        "### 4. Obtain the job results\r\n",
        "Let's await the job execution by calling `job.results()`. This may take a minute or so ⏳. Your job is being packaged and sent to IonQ, where it will wait its turn to be run."
      ],
      "metadata": {
        "nteract": {
          "transient": {
            "deleting": false
          }
        }
      },
      "id": "7d1e3a59-9898-41dd-93ef-2a204fbb49e8"
    },
    {
      "cell_type": "code",
      "source": [
        "# Await job results.\r\n",
        "print(\"Awaiting job results...\")\r\n",
        "result = job.results()\r\n",
        "\r\n",
        "# To view the probabilities computed for each Qubit state, you can print the result.\r\n",
        "print(\"Job finished. State probabilities:\")\r\n",
        "print(result)\r\n"
      ],
      "outputs": [],
      "execution_count": null,
      "metadata": {},
      "id": "a88e4367-23a8-434b-8859-4d7ed328e529"
    },
    {
      "cell_type": "markdown",
      "source": [
        "You can also view a histogram of the results which computes hypothetical states based on the result's computed probabilities. Try running the next code cell multiple times to see the value change in accordance with the probabilities that the simulation computed."
      ],
      "metadata": {
        "nteract": {
          "transient": {
            "deleting": false
          }
        }
      },
      "id": "e0dccaca-81af-4f14-b40f-0b9cdd094acd"
    },
    {
      "cell_type": "code",
      "source": [
        "from cirq.vis import plot_state_histogram\r\n",
        "\r\n",
        "# Convert the result to a cirq result by \"measuring\" the returned\r\n",
        "# qubits a number of times equal to the specified number of repititions.\r\n",
        "measurement = result.to_cirq_result()\r\n",
        "\r\n",
        "# We can now use Cirq to plot the results of the \"measurement.\"\r\n",
        "res = plot_state_histogram(measurement)"
      ],
      "outputs": [],
      "execution_count": null,
      "metadata": {
        "jupyter": {
          "source_hidden": false,
          "outputs_hidden": false
        },
        "nteract": {
          "transient": {
            "deleting": false
          }
        }
      },
      "id": "9e07dfd6-c696-47a6-bbf6-eb11147ada24"
    },
    {
      "cell_type": "markdown",
      "source": [
        "**See the histogram above? Congratulations, you've submitted a job with Azure Quantum! 👏**\r\n"
      ],
      "metadata": {
        "nteract": {
          "transient": {
            "deleting": false
          }
        }
      },
      "id": "ac95a368-fe1f-42fe-bb21-11f11e63d177"
    },
    {
      "cell_type": "markdown",
      "source": [
        "### 5. Next steps\r\n",
        "Next, you can try running a program on IonQ's hardware target. Just replace `ionq.simulator` with `ionq.qpu`. Or try another sample by navigating back to the sample gallery. The same \"hello world\" sample can be run with different quantum providers by choosing another option in the gallery card drop-down menu. Don't worry - your work here is automatically saved.\r\n",
        "\r\n",
        "To learn more about submitting Cirq circuits to Azure Quantum, review [this documentation](https://docs.microsoft.com/azure/quantum/quickstart-microsoft-cirq?pivots=platform-ionq)."
      ],
      "metadata": {
        "nteract": {
          "transient": {
            "deleting": false
          }
        }
      },
      "id": "ca314d37-ac46-4a0c-89dc-3cb063eb03b8"
    }
  ],
  "metadata": {
    "kernelspec": {
      "name": "python3",
      "language": "python",
      "display_name": "Python 3 (ipykernel)"
    },
    "language_info": {
      "name": "python",
      "version": "3.7.12",
      "mimetype": "text/x-python",
      "codemirror_mode": {
        "name": "ipython",
        "version": 3
      },
      "pygments_lexer": "ipython3",
      "nbconvert_exporter": "python",
      "file_extension": ".py"
    },
    "kernel_info": {
      "name": "python3"
    },
    "nteract": {
      "version": "nteract-front-end@1.0.0"
    }
  },
  "nbformat": 4,
  "nbformat_minor": 5
}