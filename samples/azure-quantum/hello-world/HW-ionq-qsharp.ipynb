{
  "cells": [
    {
      "cell_type": "markdown",
      "source": [
        "# 👋🌍 Hello, world: Submit a Q# job to IonQ\n",
        "\n",
        "In this notebook, we'll review the basics of Azure Quantum by submitting a simple *job*, or quantum program, to [IonQ](https://ionq.com/). We will use [Q#](https://docs.microsoft.com/azure/quantum/user-guide/) to express the quantum job."
      ],
      "metadata": {},
      "id": "4f68bf86-fb3b-453a-85ae-dfa702070bd6"
    },
    {
      "cell_type": "markdown",
      "source": [
        "## Submit a simple job to IonQ using Azure Quantum\r\n",
        "Azure Quantum provides several ways to express quantum programs. In this example we are using Q#, but note that Qiskit and Cirq are also supported. All code in this example will be written in Python and Q#.\r\n",
        "\r\n",
        "Let's begin. When you see a code block, hover over it and click the triangle play-button to execute it. To avoid any compilation issues, this should be done in order from top to bottom."
      ],
      "metadata": {
        "nteract": {
          "transient": {
            "deleting": false
          }
        }
      },
      "id": "ed8cda3b-cac7-4a57-8ea0-ac9cba831a36"
    },
    {
      "cell_type": "markdown",
      "source": [
        "### 1. Connect to the Azure Quantum workspace\r\n",
        "\r\n",
        "To connect to the Azure Quantum service, call the `connect` function as seen below."
      ],
      "metadata": {
        "nteract": {
          "transient": {
            "deleting": false
          }
        }
      },
      "id": "4b7e2f18-b0f8-41b5-9ec2-2907f47959e2"
    },
    {
      "cell_type": "code",
      "source": [
        "import qsharp.azure\n",
        "\n",
        "targets = qsharp.azure.connect(\n",
        "   resourceId=\"/subscriptions/677fc922-91d0-4bf6-9b06-4274d319a0fa/resourceGroups/alchocro-test-001/providers/Microsoft.Quantum/Workspaces/123\",\n",
        "   location=\"eastus\")"
      ],
      "outputs": [],
      "execution_count": null,
      "metadata": {},
      "id": "d171c652-649f-470d-a980-d02bae9a93db"
    },
    {
      "cell_type": "markdown",
      "source": [
        "We can use the resulting object to see which _targets_ are available for submission."
      ],
      "metadata": {
        "nteract": {
          "transient": {
            "deleting": false
          }
        }
      },
      "id": "544f9c10-1a2a-48a7-be89-7a3f7780355f"
    },
    {
      "cell_type": "code",
      "source": [
        "import qsharp\r\n",
        "\r\n",
        "print(\"This workspace's targets:\")\r\n",
        "for target in targets:\r\n",
        "    print(\"-\", target.id)"
      ],
      "outputs": [],
      "execution_count": null,
      "metadata": {
        "jupyter": {
          "source_hidden": false,
          "outputs_hidden": false
        },
        "nteract": {
          "transient": {
            "deleting": false
          }
        }
      },
      "id": "62a28ae3-8907-4fee-9b8d-1749cd8c0a00"
    },
    {
      "cell_type": "markdown",
      "source": [
        "### ❕ Do you see `ionq.simulator` in your list of targets? If so, you're ready to keep going.\r\n",
        "\r\n",
        "Don't see it? You may need to add IonQ to your workspace to run this sample. Navigate to the **Providers** page in the portal and click **+Add** to add the IonQ provider. Don't worry, there's a free credits plan available."
      ],
      "metadata": {
        "nteract": {
          "transient": {
            "deleting": false
          }
        }
      },
      "id": "6c0c1824-23f2-45a9-bf55-f82a64727f1b"
    },
    {
      "cell_type": "markdown",
      "source": [
        "## IonQ: The quantum provider\r\n",
        "Azure Quantum partners with third-party companies to deliver solutions to quantum jobs. These company offerings are called *providers*. Each provider can offer multiple *targets* with different capabilities. See the table below for IonQ's targets.\r\n",
        "\r\n",
        "Target name | Target ID | Number of qubits | Description\r\n",
        "| --- | ---| ---|\r\n",
        "Quantum simulator | `ionq.simulator` | 29 qubits | IonQ's cloud-based idealized simulator. Free of cost. |\r\n",
        "Quantum computer | `ionq.qpu` | 11 qubits | IonQ's trapped-ion quantum computer. This is real quantum hardware, not a simulation.\r\n",
        "\r\n",
        "For this example, we will use `ionq.simulator`. To learn more about IonQ's targets, check out our [documentation](https://docs.microsoft.com/azure/quantum/provider-ionq)."
      ],
      "metadata": {
        "nteract": {
          "transient": {
            "deleting": false
          }
        }
      },
      "id": "61816cb6-3434-470b-89eb-13192648cfaf"
    },
    {
      "cell_type": "markdown",
      "source": [
        "### 2. Build the quantum program\n",
        "\n",
        "Let's create a simple Q# program to run."
      ],
      "metadata": {},
      "id": "563fa196-7efd-47a2-a3dd-e6f4f6d0031b"
    },
    {
      "cell_type": "code",
      "source": [
        "# We declare the function we will define in Q# as a callable so that Python recognizes the symbol.\r\n",
        "GenerateRandomBit: any = None"
      ],
      "outputs": [],
      "execution_count": null,
      "metadata": {
        "jupyter": {
          "source_hidden": false,
          "outputs_hidden": false
        },
        "nteract": {
          "transient": {
            "deleting": false
          }
        }
      },
      "id": "8a3310fe-8cd7-49d6-9c05-c1143968abd2"
    },
    {
      "cell_type": "code",
      "source": [
        "%%qsharp\r\n",
        "open Microsoft.Quantum.Measurement;\r\n",
        "open Microsoft.Quantum.Arrays;\r\n",
        "open Microsoft.Quantum.Convert;\r\n",
        "\r\n",
        "operation GenerateRandomBit() : Result {\r\n",
        "    use target = Qubit();\r\n",
        "\r\n",
        "    // Apply an H-gate and measure.\r\n",
        "    H(target);\r\n",
        "    return M(target);\r\n",
        "}"
      ],
      "outputs": [],
      "execution_count": null,
      "metadata": {
        "microsoft": {
          "language": "qsharp"
        }
      },
      "id": "9deacc51-c2ea-43a3-a474-c4ff62798609"
    },
    {
      "cell_type": "markdown",
      "source": [
        "The program you built is a simple quantum random bit generator. With IonQ's idealized simulator, we will be able to calculate the probability of measuring a `1` or `0`."
      ],
      "metadata": {
        "nteract": {
          "transient": {
            "deleting": false
          }
        }
      },
      "id": "a9c43dfa-8fd0-435b-90a8-496697d48d33"
    },
    {
      "cell_type": "markdown",
      "source": [
        "### 3. Submit the quantum program to IonQ\r\n",
        "\r\n",
        "We will use the `execute` function to run the quantum program above on IonQ's `ionq.simulator` target. This may take a minute or so ⏳. Your job will be packaged and sent to IonQ, where it will wait its turn to be run."
      ],
      "metadata": {},
      "id": "71ab1f66-2a22-4bed-a5cb-6a5f431456ea"
    },
    {
      "cell_type": "code",
      "source": [
        "# Set the target to ionq.simulator\r\n",
        "qsharp.azure.target(\"ionq.simulator\")\r\n",
        "\r\n",
        "# We'll use 100 shots (simulated runs). Timeout is in seconds.\r\n",
        "result = qsharp.azure.execute(GenerateRandomBit, shots=100, jobName=\"Generate one random bit\", timeout=240)"
      ],
      "outputs": [],
      "execution_count": null,
      "metadata": {},
      "id": "55072a59-3df1-4eb6-9096-35fe4f2b4fc0"
    },
    {
      "cell_type": "markdown",
      "source": [
        "The job ID can be used to retrieve the results later using the `output` and `status` functions or by viewing it under the **Job management** section of the portal."
      ],
      "metadata": {
        "nteract": {
          "transient": {
            "deleting": false
          }
        }
      },
      "id": "68845f26-dff9-4c60-9478-895ef346231f"
    },
    {
      "cell_type": "markdown",
      "source": [
        "### 4. Visualize job results \r\n",
        "You can also view a histogram of the results using [`pyplot`](https://matplotlib.org/stable/api/_as_gen/matplotlib.pyplot.html):"
      ],
      "metadata": {
        "nteract": {
          "transient": {
            "deleting": false
          }
        }
      },
      "id": "e0dccaca-81af-4f14-b40f-0b9cdd094acd"
    },
    {
      "cell_type": "code",
      "source": [
        "from matplotlib import pyplot\r\n",
        "\r\n",
        "pyplot.hist(result, bins=[0,1,2], width=0.5)\r\n",
        "pyplot.title(\"Result\")\r\n",
        "pyplot.xlabel(\"Measurement\")\r\n",
        "_ = pyplot.ylabel(\"Probability\")"
      ],
      "outputs": [],
      "execution_count": null,
      "metadata": {
        "jupyter": {
          "source_hidden": false,
          "outputs_hidden": false
        },
        "nteract": {
          "transient": {
            "deleting": false
          }
        }
      },
      "id": "9e07dfd6-c696-47a6-bbf6-eb11147ada24"
    },
    {
      "cell_type": "markdown",
      "source": [
        "**See the histogram above? Congratulations, you've submitted a job with Azure Quantum! 👏**\r\n"
      ],
      "metadata": {
        "nteract": {
          "transient": {
            "deleting": false
          }
        }
      },
      "id": "ac95a368-fe1f-42fe-bb21-11f11e63d177"
    },
    {
      "cell_type": "markdown",
      "source": [
        "### 5. Next steps\r\n",
        "Next, you can try running a program on IonQ's hardware target - just replace `ionq.simulator` with `ionq.qpu`. Or try another sample by navigating back to the sample gallery. The same \"hello world\" sample can be run with different quantum providers by choosing another option in the gallery card drop-down menu. Don't worry - your work here is automatically saved.\r\n",
        "\r\n",
        "To learn more about submitting jobs to Azure Quantum using Q#, refer to [this documentation](https://docs.microsoft.com/azure/quantum/how-to-submit-jobs?pivots=ide-python)."
      ],
      "metadata": {
        "nteract": {
          "transient": {
            "deleting": false
          }
        }
      },
      "id": "ca314d37-ac46-4a0c-89dc-3cb063eb03b8"
    }
  ],
  "metadata": {
    "kernelspec": {
      "name": "python3",
      "language": "python",
      "display_name": "Python 3 (ipykernel)"
    },
    "language_info": {
      "name": "python",
      "version": "3.7.12",
      "mimetype": "text/x-python",
      "codemirror_mode": {
        "name": "ipython",
        "version": 3
      },
      "pygments_lexer": "ipython3",
      "nbconvert_exporter": "python",
      "file_extension": ".py"
    },
    "kernel_info": {
      "name": "python3"
    },
    "nteract": {
      "version": "nteract-front-end@1.0.0"
    }
  },
  "nbformat": 4,
  "nbformat_minor": 5
}